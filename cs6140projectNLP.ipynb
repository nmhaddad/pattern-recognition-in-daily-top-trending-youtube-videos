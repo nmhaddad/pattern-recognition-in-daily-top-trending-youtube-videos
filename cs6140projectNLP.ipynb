{
  "nbformat": 4,
  "nbformat_minor": 0,
  "metadata": {
    "colab": {
      "name": "cs6140projectNLP.ipynb",
      "provenance": [],
      "collapsed_sections": [],
      "include_colab_link": true
    },
    "kernelspec": {
      "name": "python3",
      "display_name": "Python 3"
    },
    "accelerator": "GPU"
  },
  "cells": [
    {
      "cell_type": "markdown",
      "metadata": {
        "id": "view-in-github",
        "colab_type": "text"
      },
      "source": [
        "<a href=\"https://colab.research.google.com/github/nmhaddad/python-machine-learning-youtube/blob/master/cs6140projectNLP.ipynb\" target=\"_parent\"><img src=\"https://colab.research.google.com/assets/colab-badge.svg\" alt=\"Open In Colab\"/></a>"
      ]
    },
    {
      "cell_type": "markdown",
      "metadata": {
        "id": "OTkkR7civapF",
        "colab_type": "text"
      },
      "source": [
        "# **Pattern Recognition in Daily Top Trending YouTube Videos**\n",
        "\n",
        "Natural Language Processing Sub-Experiment\n",
        "---\n"
      ]
    },
    {
      "cell_type": "markdown",
      "metadata": {
        "id": "Y60Bbpnmt79y",
        "colab_type": "text"
      },
      "source": [
        "# Setup"
      ]
    },
    {
      "cell_type": "markdown",
      "metadata": {
        "id": "VyfgaDP9KRS6",
        "colab_type": "text"
      },
      "source": [
        "**Imports**"
      ]
    },
    {
      "cell_type": "code",
      "metadata": {
        "id": "HcQh9qYNlmwT",
        "colab_type": "code",
        "colab": {}
      },
      "source": [
        "import pandas as pd\n",
        "from google.colab import drive\n",
        "import matplotlib.pyplot as plt\n",
        "from gensim.models import Word2Vec\n",
        "import numpy as np\n",
        "import re\n",
        "import seaborn as sns\n",
        "from gensim.test.utils import common_texts\n",
        "from gensim.models import Phrases\n",
        "\n",
        "%load_ext Cython\n",
        "%matplotlib inline"
      ],
      "execution_count": 0,
      "outputs": []
    },
    {
      "cell_type": "markdown",
      "metadata": {
        "id": "SM5f7pz99U4K",
        "colab_type": "text"
      },
      "source": [
        "**Load Data From Google Drive**"
      ]
    },
    {
      "cell_type": "code",
      "metadata": {
        "id": "Bma2ZWaPkKen",
        "colab_type": "code",
        "outputId": "bf4bfcd0-db78-4921-ecf6-524a29b59491",
        "colab": {
          "base_uri": "https://localhost:8080/",
          "height": 35
        }
      },
      "source": [
        "drive.mount('/content/drive')"
      ],
      "execution_count": 2,
      "outputs": [
        {
          "output_type": "stream",
          "text": [
            "Drive already mounted at /content/drive; to attempt to forcibly remount, call drive.mount(\"/content/drive\", force_remount=True).\n"
          ],
          "name": "stdout"
        }
      ]
    },
    {
      "cell_type": "markdown",
      "metadata": {
        "id": "8Qf7kT6_9ejN",
        "colab_type": "text"
      },
      "source": [
        "**Read-in CSV & JSON**"
      ]
    },
    {
      "cell_type": "code",
      "metadata": {
        "id": "36cOy5BrkVhQ",
        "colab_type": "code",
        "colab": {}
      },
      "source": [
        "UNITED_STATES_VID = \"/content/drive/My Drive/cs6140 project/data/USvideos.csv\"\n",
        "videos = pd.read_csv(UNITED_STATES_VID)\n",
        "\n",
        "UNITED_STATES_CAT = \"/content/drive/My Drive/cs6140 project/data/US_category_id.json\"\n",
        "videos_categories = pd.read_json(UNITED_STATES_CAT)"
      ],
      "execution_count": 0,
      "outputs": []
    },
    {
      "cell_type": "code",
      "metadata": {
        "id": "zh_brMEj9mre",
        "colab_type": "code",
        "outputId": "7a7f5680-63d2-4cd0-bfc4-475141e52691",
        "colab": {
          "base_uri": "https://localhost:8080/",
          "height": 170
        }
      },
      "source": [
        "videos.head(1)"
      ],
      "execution_count": 4,
      "outputs": [
        {
          "output_type": "execute_result",
          "data": {
            "text/html": [
              "<div>\n",
              "<style scoped>\n",
              "    .dataframe tbody tr th:only-of-type {\n",
              "        vertical-align: middle;\n",
              "    }\n",
              "\n",
              "    .dataframe tbody tr th {\n",
              "        vertical-align: top;\n",
              "    }\n",
              "\n",
              "    .dataframe thead th {\n",
              "        text-align: right;\n",
              "    }\n",
              "</style>\n",
              "<table border=\"1\" class=\"dataframe\">\n",
              "  <thead>\n",
              "    <tr style=\"text-align: right;\">\n",
              "      <th></th>\n",
              "      <th>video_id</th>\n",
              "      <th>trending_date</th>\n",
              "      <th>title</th>\n",
              "      <th>channel_title</th>\n",
              "      <th>category_id</th>\n",
              "      <th>publish_time</th>\n",
              "      <th>tags</th>\n",
              "      <th>views</th>\n",
              "      <th>likes</th>\n",
              "      <th>dislikes</th>\n",
              "      <th>comment_count</th>\n",
              "      <th>thumbnail_link</th>\n",
              "      <th>comments_disabled</th>\n",
              "      <th>ratings_disabled</th>\n",
              "      <th>video_error_or_removed</th>\n",
              "      <th>description</th>\n",
              "    </tr>\n",
              "  </thead>\n",
              "  <tbody>\n",
              "    <tr>\n",
              "      <th>0</th>\n",
              "      <td>2kyS6SvSYSE</td>\n",
              "      <td>17.14.11</td>\n",
              "      <td>WE WANT TO TALK ABOUT OUR MARRIAGE</td>\n",
              "      <td>CaseyNeistat</td>\n",
              "      <td>22</td>\n",
              "      <td>2017-11-13T17:13:01.000Z</td>\n",
              "      <td>SHANtell martin</td>\n",
              "      <td>748374</td>\n",
              "      <td>57527</td>\n",
              "      <td>2966</td>\n",
              "      <td>15954</td>\n",
              "      <td>https://i.ytimg.com/vi/2kyS6SvSYSE/default.jpg</td>\n",
              "      <td>False</td>\n",
              "      <td>False</td>\n",
              "      <td>False</td>\n",
              "      <td>SHANTELL'S CHANNEL - https://www.youtube.com/s...</td>\n",
              "    </tr>\n",
              "  </tbody>\n",
              "</table>\n",
              "</div>"
            ],
            "text/plain": [
              "      video_id  ...                                        description\n",
              "0  2kyS6SvSYSE  ...  SHANTELL'S CHANNEL - https://www.youtube.com/s...\n",
              "\n",
              "[1 rows x 16 columns]"
            ]
          },
          "metadata": {
            "tags": []
          },
          "execution_count": 4
        }
      ]
    },
    {
      "cell_type": "code",
      "metadata": {
        "id": "9hjVhvPOle3J",
        "colab_type": "code",
        "outputId": "b678d695-8014-432a-a2c8-af5516770d2b",
        "colab": {
          "base_uri": "https://localhost:8080/",
          "height": 388
        }
      },
      "source": [
        "videos.info()"
      ],
      "execution_count": 5,
      "outputs": [
        {
          "output_type": "stream",
          "text": [
            "<class 'pandas.core.frame.DataFrame'>\n",
            "RangeIndex: 40949 entries, 0 to 40948\n",
            "Data columns (total 16 columns):\n",
            "video_id                  40949 non-null object\n",
            "trending_date             40949 non-null object\n",
            "title                     40949 non-null object\n",
            "channel_title             40949 non-null object\n",
            "category_id               40949 non-null int64\n",
            "publish_time              40949 non-null object\n",
            "tags                      40949 non-null object\n",
            "views                     40949 non-null int64\n",
            "likes                     40949 non-null int64\n",
            "dislikes                  40949 non-null int64\n",
            "comment_count             40949 non-null int64\n",
            "thumbnail_link            40949 non-null object\n",
            "comments_disabled         40949 non-null bool\n",
            "ratings_disabled          40949 non-null bool\n",
            "video_error_or_removed    40949 non-null bool\n",
            "description               40379 non-null object\n",
            "dtypes: bool(3), int64(5), object(8)\n",
            "memory usage: 4.2+ MB\n"
          ],
          "name": "stdout"
        }
      ]
    },
    {
      "cell_type": "code",
      "metadata": {
        "id": "05zJyRKfljQp",
        "colab_type": "code",
        "outputId": "9d967e51-a0a5-45a3-eb65-a1cbc8ba5794",
        "colab": {
          "base_uri": "https://localhost:8080/",
          "height": 300
        }
      },
      "source": [
        "videos.describe()"
      ],
      "execution_count": 6,
      "outputs": [
        {
          "output_type": "execute_result",
          "data": {
            "text/html": [
              "<div>\n",
              "<style scoped>\n",
              "    .dataframe tbody tr th:only-of-type {\n",
              "        vertical-align: middle;\n",
              "    }\n",
              "\n",
              "    .dataframe tbody tr th {\n",
              "        vertical-align: top;\n",
              "    }\n",
              "\n",
              "    .dataframe thead th {\n",
              "        text-align: right;\n",
              "    }\n",
              "</style>\n",
              "<table border=\"1\" class=\"dataframe\">\n",
              "  <thead>\n",
              "    <tr style=\"text-align: right;\">\n",
              "      <th></th>\n",
              "      <th>category_id</th>\n",
              "      <th>views</th>\n",
              "      <th>likes</th>\n",
              "      <th>dislikes</th>\n",
              "      <th>comment_count</th>\n",
              "    </tr>\n",
              "  </thead>\n",
              "  <tbody>\n",
              "    <tr>\n",
              "      <th>count</th>\n",
              "      <td>40949.000000</td>\n",
              "      <td>4.094900e+04</td>\n",
              "      <td>4.094900e+04</td>\n",
              "      <td>4.094900e+04</td>\n",
              "      <td>4.094900e+04</td>\n",
              "    </tr>\n",
              "    <tr>\n",
              "      <th>mean</th>\n",
              "      <td>19.972429</td>\n",
              "      <td>2.360785e+06</td>\n",
              "      <td>7.426670e+04</td>\n",
              "      <td>3.711401e+03</td>\n",
              "      <td>8.446804e+03</td>\n",
              "    </tr>\n",
              "    <tr>\n",
              "      <th>std</th>\n",
              "      <td>7.568327</td>\n",
              "      <td>7.394114e+06</td>\n",
              "      <td>2.288853e+05</td>\n",
              "      <td>2.902971e+04</td>\n",
              "      <td>3.743049e+04</td>\n",
              "    </tr>\n",
              "    <tr>\n",
              "      <th>min</th>\n",
              "      <td>1.000000</td>\n",
              "      <td>5.490000e+02</td>\n",
              "      <td>0.000000e+00</td>\n",
              "      <td>0.000000e+00</td>\n",
              "      <td>0.000000e+00</td>\n",
              "    </tr>\n",
              "    <tr>\n",
              "      <th>25%</th>\n",
              "      <td>17.000000</td>\n",
              "      <td>2.423290e+05</td>\n",
              "      <td>5.424000e+03</td>\n",
              "      <td>2.020000e+02</td>\n",
              "      <td>6.140000e+02</td>\n",
              "    </tr>\n",
              "    <tr>\n",
              "      <th>50%</th>\n",
              "      <td>24.000000</td>\n",
              "      <td>6.818610e+05</td>\n",
              "      <td>1.809100e+04</td>\n",
              "      <td>6.310000e+02</td>\n",
              "      <td>1.856000e+03</td>\n",
              "    </tr>\n",
              "    <tr>\n",
              "      <th>75%</th>\n",
              "      <td>25.000000</td>\n",
              "      <td>1.823157e+06</td>\n",
              "      <td>5.541700e+04</td>\n",
              "      <td>1.938000e+03</td>\n",
              "      <td>5.755000e+03</td>\n",
              "    </tr>\n",
              "    <tr>\n",
              "      <th>max</th>\n",
              "      <td>43.000000</td>\n",
              "      <td>2.252119e+08</td>\n",
              "      <td>5.613827e+06</td>\n",
              "      <td>1.674420e+06</td>\n",
              "      <td>1.361580e+06</td>\n",
              "    </tr>\n",
              "  </tbody>\n",
              "</table>\n",
              "</div>"
            ],
            "text/plain": [
              "        category_id         views         likes      dislikes  comment_count\n",
              "count  40949.000000  4.094900e+04  4.094900e+04  4.094900e+04   4.094900e+04\n",
              "mean      19.972429  2.360785e+06  7.426670e+04  3.711401e+03   8.446804e+03\n",
              "std        7.568327  7.394114e+06  2.288853e+05  2.902971e+04   3.743049e+04\n",
              "min        1.000000  5.490000e+02  0.000000e+00  0.000000e+00   0.000000e+00\n",
              "25%       17.000000  2.423290e+05  5.424000e+03  2.020000e+02   6.140000e+02\n",
              "50%       24.000000  6.818610e+05  1.809100e+04  6.310000e+02   1.856000e+03\n",
              "75%       25.000000  1.823157e+06  5.541700e+04  1.938000e+03   5.755000e+03\n",
              "max       43.000000  2.252119e+08  5.613827e+06  1.674420e+06   1.361580e+06"
            ]
          },
          "metadata": {
            "tags": []
          },
          "execution_count": 6
        }
      ]
    },
    {
      "cell_type": "markdown",
      "metadata": {
        "id": "raMcbq9uSJ8y",
        "colab_type": "text"
      },
      "source": [
        "# Data Pre-Processing"
      ]
    },
    {
      "cell_type": "markdown",
      "metadata": {
        "id": "4R_XHb1KmcQz",
        "colab_type": "text"
      },
      "source": [
        "This block of code links the csv to json categories"
      ]
    },
    {
      "cell_type": "code",
      "metadata": {
        "id": "DC8UI5RhjQoc",
        "colab_type": "code",
        "colab": {}
      },
      "source": [
        "# source: https://www.kaggle.com/skalskip/youtube-data-exploration-and-plotly-visualization\n",
        "\n",
        "categories = {category['id']: category['snippet']['title'] for category in videos_categories['items']}\n",
        "videos.insert(4, 'category', videos['category_id'].astype(str).map(categories))"
      ],
      "execution_count": 0,
      "outputs": []
    },
    {
      "cell_type": "markdown",
      "metadata": {
        "id": "HbFjLgVvrUUS",
        "colab_type": "text"
      },
      "source": [
        "**Remove Duplicates**\n",
        "\n",
        "The outcome of this experiment will be heavily impacted by duplicate videos"
      ]
    },
    {
      "cell_type": "code",
      "metadata": {
        "id": "XFzrU5x6rYQo",
        "colab_type": "code",
        "colab": {}
      },
      "source": [
        "videos.drop_duplicates(subset=\"title\", keep=\"last\", inplace=True)"
      ],
      "execution_count": 0,
      "outputs": []
    },
    {
      "cell_type": "code",
      "metadata": {
        "id": "3n28b_oxx8pY",
        "colab_type": "code",
        "outputId": "a12807a5-1d7a-464d-fbd6-06caed2ff933",
        "colab": {
          "base_uri": "https://localhost:8080/",
          "height": 35
        }
      },
      "source": [
        "print(videos.shape[0])"
      ],
      "execution_count": 9,
      "outputs": [
        {
          "output_type": "stream",
          "text": [
            "6455\n"
          ],
          "name": "stdout"
        }
      ]
    },
    {
      "cell_type": "markdown",
      "metadata": {
        "id": "Z2Ztz0yB40dE",
        "colab_type": "text"
      },
      "source": [
        "**Creating New Attributes**"
      ]
    },
    {
      "cell_type": "code",
      "metadata": {
        "colab_type": "code",
        "id": "p_lWRcRQv8D6",
        "colab": {}
      },
      "source": [
        "videos[\"likes_per_view\"] = videos[\"likes\"]/videos[\"views\"]\n",
        "videos[\"dislikes_per_view\"] = videos[\"dislikes\"]/videos[\"views\"]\n",
        "videos[\"comments_per_view\"] = videos[\"comment_count\"]/videos[\"views\"]\n",
        "\n",
        "videos[\"total_likes_dislikes\"] = videos[\"likes\"] + videos[\"dislikes\"]\n",
        "videos[\"total_likes_dislikes_per_view\"] = videos[\"total_likes_dislikes\"]/videos[\"views\"]\n",
        "\n",
        "videos[\"likes_percentage\"] = videos[\"likes\"]/videos[\"total_likes_dislikes\"]\n",
        "videos[\"dislikes_percentage\"] =videos[\"dislikes\"]/videos[\"total_likes_dislikes\"]"
      ],
      "execution_count": 0,
      "outputs": []
    },
    {
      "cell_type": "code",
      "metadata": {
        "id": "y_lTsCjrQ4f9",
        "colab_type": "code",
        "colab": {}
      },
      "source": [
        "# source https://www.kaggle.com/skalskip/youtube-data-exploration-and-plotly-visualization\n",
        "\n",
        "videos['trending_date'] = pd.to_datetime(videos['trending_date'], format='%y.%d.%m').dt.date\n",
        "reformatted_time = pd.to_datetime(videos['publish_time'], format='%Y-%m-%dT%H:%M:%S.%fZ')\n",
        "videos['publish_date'] = reformatted_time.dt.date\n",
        "videos['publish_time'] = reformatted_time.dt.time\n",
        "videos['publish_hour'] = reformatted_time.dt.hour\n"
      ],
      "execution_count": 0,
      "outputs": []
    },
    {
      "cell_type": "markdown",
      "metadata": {
        "id": "NP3WsG8DU4L2",
        "colab_type": "text"
      },
      "source": [
        "**Text Pre-Processing**"
      ]
    },
    {
      "cell_type": "code",
      "metadata": {
        "id": "svKM0wHiUb54",
        "colab_type": "code",
        "colab": {}
      },
      "source": [
        "# get the number of characters in a given title\n",
        "def getTitleCharacters(title):\n",
        "  return len(title)\n",
        "\n",
        "# get the numbe of words in a given title\n",
        "def getTitleWords(title):\n",
        "  return len(title.split())\n",
        "\n",
        "videos[\"title_characters\"] = videos[\"title\"].apply(getTitleCharacters)\n",
        "videos[\"title_words\"] = videos[\"title\"].apply(getTitleWords)"
      ],
      "execution_count": 0,
      "outputs": []
    },
    {
      "cell_type": "code",
      "metadata": {
        "id": "IhshnBrkVD0Z",
        "colab_type": "code",
        "outputId": "f6744ba1-fc72-46b0-dfd8-452da2603001",
        "colab": {
          "base_uri": "https://localhost:8080/",
          "height": 229
        }
      },
      "source": [
        "# not all descriptions are in string format\n",
        "videos[\"str_description\"] = str(videos[\"description\"])\n",
        "\n",
        "def getDescriptionCharacters(description):\n",
        "  return len(description)\n",
        "\n",
        "def getDescriptionWords(description):\n",
        "  return len(description.split())\n",
        "\n",
        "videos[\"description_characters\"] = videos[\"str_description\"].apply(getDescriptionCharacters)\n",
        "videos[\"description_words\"] = videos[\"str_description\"].apply(getDescriptionWords)\n",
        "\n",
        "char_median = videos[\"description_characters\"].median()\n",
        "videos[\"description_characters\"].fillna(0)\n",
        "videos[\"description_words\"].fillna(0)"
      ],
      "execution_count": 13,
      "outputs": [
        {
          "output_type": "execute_result",
          "data": {
            "text/plain": [
              "10       90\n",
              "36       90\n",
              "41       90\n",
              "44       90\n",
              "46       90\n",
              "         ..\n",
              "40944    90\n",
              "40945    90\n",
              "40946    90\n",
              "40947    90\n",
              "40948    90\n",
              "Name: description_words, Length: 6455, dtype: int64"
            ]
          },
          "metadata": {
            "tags": []
          },
          "execution_count": 13
        }
      ]
    },
    {
      "cell_type": "markdown",
      "metadata": {
        "id": "KyxMkSvlKeZy",
        "colab_type": "text"
      },
      "source": [
        "**Create functions for tokenizing text**"
      ]
    },
    {
      "cell_type": "code",
      "metadata": {
        "id": "tNSMDHus-d-N",
        "colab_type": "code",
        "outputId": "ef2ede83-6ebc-4883-e9a4-db3164f7e9df",
        "colab": {
          "base_uri": "https://localhost:8080/",
          "height": 52
        }
      },
      "source": [
        "import nltk\n",
        "from nltk.corpus import stopwords\n",
        "nltk.download(\"stopwords\")\n",
        "\n",
        "STOPWORDS = set(stopwords.words(\"english\"))"
      ],
      "execution_count": 14,
      "outputs": [
        {
          "output_type": "stream",
          "text": [
            "[nltk_data] Downloading package stopwords to /root/nltk_data...\n",
            "[nltk_data]   Package stopwords is already up-to-date!\n"
          ],
          "name": "stdout"
        }
      ]
    },
    {
      "cell_type": "code",
      "metadata": {
        "id": "9NHY3MlM-e7C",
        "colab_type": "code",
        "colab": {}
      },
      "source": [
        "\"\"\"\n",
        "function: is_stopword\n",
        "param(s): word, a string\n",
        "returns: a boolean\n",
        "does: determines whether or not the given string is a stopword\n",
        "\"\"\"\n",
        "def is_stopword(word):\n",
        "  if word in STOPWORDS:\n",
        "    return True\n",
        "  return False"
      ],
      "execution_count": 0,
      "outputs": []
    },
    {
      "cell_type": "code",
      "metadata": {
        "id": "UFtvQdhoI7En",
        "colab_type": "code",
        "colab": {}
      },
      "source": [
        "\"\"\"\n",
        "function: tokenizeTitles\n",
        "param(s): text, a string\n",
        "returns: a list of tokenized strings\n",
        "\"\"\"\n",
        "def tokenizeTitles(text):\n",
        "  ret_list = []\n",
        "  # split text into list of words\n",
        "  data = str(text).split()\n",
        "  for token in data:\n",
        "    # remove text that is not made of letters\n",
        "    word = \"\"\n",
        "    for char in token:\n",
        "      char = char.lower()\n",
        "      if ascii(char) >= ascii(\"a\") and ascii(char) <= ascii(\"z\"):\n",
        "        word += char\n",
        "    # remove empty strings and stopwords\n",
        "    if word is not \"\" and not is_stopword(word):\n",
        "      ret_list.append(word)\n",
        "  return ret_list\n",
        "\n",
        "\n",
        "\"\"\"\n",
        "function: tokenizeTags\n",
        "param(s): text, a string\n",
        "returns: a list of tokenized strings\n",
        "\"\"\"\n",
        "def tokenizeTags(text):\n",
        "  ret_list = []\n",
        "\n",
        "  # split text into list of words\n",
        "  data = re.split(\"\\\"| |\\|\", str(text))\n",
        "\n",
        "  for token in data:\n",
        "\n",
        "    # remove text that is not made of letters\n",
        "    word = \"\"\n",
        "    for char in token:\n",
        "      char = char.lower()\n",
        "      if ascii(char) >= ascii(\"a\") and ascii(char) <= ascii(\"z\"):\n",
        "        word += char\n",
        "    if word is not \"\" and not is_stopword(word):\n",
        "      ret_list.append(word)\n",
        "\n",
        "  return ret_list"
      ],
      "execution_count": 0,
      "outputs": []
    },
    {
      "cell_type": "markdown",
      "metadata": {
        "id": "8uf-HbLPfPTy",
        "colab_type": "text"
      },
      "source": [
        "**Create ```data``` variable for neural network learning**"
      ]
    },
    {
      "cell_type": "code",
      "metadata": {
        "id": "SI0Q07MBH6dA",
        "colab_type": "code",
        "colab": {}
      },
      "source": [
        "titles = videos[\"title\"].apply(tokenizeTitles)\n",
        "tags = videos[\"tags\"].apply(tokenizeTags)\n",
        "channels = videos[\"channel_title\"].apply(tokenizeTitles)\n",
        "descriptions = videos[\"description\"].apply(tokenizeTitles)\n",
        "categories_1 = videos[\"category\"].apply(tokenizeTitles)\n",
        "\n",
        "data = titles + tags + channels + descriptions + categories_1"
      ],
      "execution_count": 0,
      "outputs": []
    },
    {
      "cell_type": "markdown",
      "metadata": {
        "id": "keWzozrWxJCB",
        "colab_type": "text"
      },
      "source": [
        "# Deep Learning with Word2Vec"
      ]
    },
    {
      "cell_type": "markdown",
      "metadata": {
        "id": "dzDpSp55KoTM",
        "colab_type": "text"
      },
      "source": [
        "**Create and train models**"
      ]
    },
    {
      "cell_type": "markdown",
      "metadata": {
        "id": "g6mi5W_-eWE8",
        "colab_type": "text"
      },
      "source": [
        "The models used for this sub-experiment are word embedding neural networks that learn the values of words so that the words are quantifiable\n",
        "\n",
        "The first function, ```model``` is a function that is trained using a continuous bag of words"
      ]
    },
    {
      "cell_type": "code",
      "metadata": {
        "id": "o2yHNzH374GX",
        "colab_type": "code",
        "outputId": "fe2b9160-a229-4bd9-895a-f5747cb0d823",
        "colab": {
          "base_uri": "https://localhost:8080/",
          "height": 52
        }
      },
      "source": [
        "# since many examples will include phrases, we need to learn common phrases\n",
        "bigram_transformer = Phrases(common_texts)\n",
        "phrases = bigram_transformer[common_texts]\n",
        "\n",
        "phrase_model = Word2Vec(bigram_transformer[common_texts], min_count=1)"
      ],
      "execution_count": 18,
      "outputs": [
        {
          "output_type": "stream",
          "text": [
            "/usr/local/lib/python3.6/dist-packages/gensim/models/phrases.py:598: UserWarning: For a faster implementation, use the gensim.models.phrases.Phraser class\n",
            "  warnings.warn(\"For a faster implementation, use the gensim.models.phrases.Phraser class\")\n"
          ],
          "name": "stderr"
        }
      ]
    },
    {
      "cell_type": "code",
      "metadata": {
        "id": "K3AZTt1fXv5L",
        "colab_type": "code",
        "colab": {
          "base_uri": "https://localhost:8080/",
          "height": 35
        },
        "outputId": "ffb55980-4d64-40af-a4d2-5825a629f110"
      },
      "source": [
        "phrase_model.train(data, total_examples=6455, epochs=1)\n",
        "print(phrase_model.vocabulary.sample)"
      ],
      "execution_count": 19,
      "outputs": [
        {
          "output_type": "stream",
          "text": [
            "0.001\n"
          ],
          "name": "stdout"
        }
      ]
    },
    {
      "cell_type": "code",
      "metadata": {
        "id": "mJwTB3kjeKse",
        "colab_type": "code",
        "colab": {}
      },
      "source": [
        "# train continuous bag of words model\n",
        "model = Word2Vec(data, min_count=1, size=200, window=5, workers=4)"
      ],
      "execution_count": 0,
      "outputs": []
    },
    {
      "cell_type": "markdown",
      "metadata": {
        "id": "Uke3vrsXfFk2",
        "colab_type": "text"
      },
      "source": [
        "The second function, ```sg_model```, is a function that uses skip grams"
      ]
    },
    {
      "cell_type": "code",
      "metadata": {
        "id": "cVRIXWkscXUH",
        "colab_type": "code",
        "colab": {}
      },
      "source": [
        "# train skip gram model\n",
        "sg_model = Word2Vec(data, min_count = 1, size = 200, window = 5, sg = 1, workers=4) "
      ],
      "execution_count": 0,
      "outputs": []
    },
    {
      "cell_type": "markdown",
      "metadata": {
        "id": "s3a_xVfdKxaB",
        "colab_type": "text"
      },
      "source": [
        "Test examples"
      ]
    },
    {
      "cell_type": "code",
      "metadata": {
        "id": "HPKRdn20sX99",
        "colab_type": "code",
        "outputId": "109c447b-cdc1-460f-afbe-c34b7a86d29e",
        "colab": {
          "base_uri": "https://localhost:8080/",
          "height": 214
        }
      },
      "source": [
        "# source: geeksforgeeks\n",
        "\n",
        "print(\"Cosine similarity between 'black' \" + \"and 'black' - CBOW:     {0:.4f}\".format(model.wv.similarity(\"black\", \"black\")))\n",
        "print(\"Cosine similarity between 'black' \" + \"and 'black' - SG:       {0:.4f}\".format(sg_model.wv.similarity(\"black\", \"black\")))\n",
        "\n",
        "print(\"Cosine similarity between 'panther' \" + \"and 'panther' - CBOW: {0:.4f}\".format(model.wv.similarity(\"panther\", \"panther\")))\n",
        "print(\"Cosine similarity between 'panther' \" + \"and 'panther' - SG:   {0:.4f}\".format(sg_model.wv.similarity(\"panther\", \"panther\")))\n",
        "\n",
        "print(\"Cosine similarity between 'black' \" + \"and 'panther' - CBOW:   {0:.4f}\".format(model.wv.similarity(\"black\", \"panther\")))\n",
        "print(\"Cosine similarity between 'black' \" + \"and 'panther' - SG:     {0:.4f}\".format(sg_model.wv.similarity(\"black\", \"panther\")))\n",
        "\n",
        "print(\"Cosine similarity between 'panther' \" + \"and 'black' - CBOW:   {0:.4f}\".format(model.wv.similarity(\"black\", \"panther\")))\n",
        "print(\"Cosine similarity between 'panther' \" + \"and 'black' - SG:     {0:.4f}\".format(sg_model.wv.similarity(\"black\", \"panther\")))"
      ],
      "execution_count": 22,
      "outputs": [
        {
          "output_type": "stream",
          "text": [
            "Cosine similarity between 'black' and 'black' - CBOW:     1.0000\n",
            "Cosine similarity between 'black' and 'black' - SG:       1.0000\n",
            "Cosine similarity between 'panther' and 'panther' - CBOW: 1.0000\n",
            "Cosine similarity between 'panther' and 'panther' - SG:   1.0000\n",
            "Cosine similarity between 'black' and 'panther' - CBOW:   0.9707\n",
            "Cosine similarity between 'black' and 'panther' - SG:     0.8270\n",
            "Cosine similarity between 'panther' and 'black' - CBOW:   0.9707\n",
            "Cosine similarity between 'panther' and 'black' - SG:     0.8270\n"
          ],
          "name": "stdout"
        },
        {
          "output_type": "stream",
          "text": [
            "/usr/local/lib/python3.6/dist-packages/gensim/matutils.py:737: FutureWarning: Conversion of the second argument of issubdtype from `int` to `np.signedinteger` is deprecated. In future, it will be treated as `np.int64 == np.dtype(int).type`.\n",
            "  if np.issubdtype(vec.dtype, np.int):\n"
          ],
          "name": "stderr"
        }
      ]
    },
    {
      "cell_type": "markdown",
      "metadata": {
        "id": "6Jrguxj6K_pY",
        "colab_type": "text"
      },
      "source": [
        "**Create functions for comparing two texts**"
      ]
    },
    {
      "cell_type": "code",
      "metadata": {
        "id": "90Sm4G6KxwYB",
        "colab_type": "code",
        "colab": {}
      },
      "source": [
        "\"\"\"\n",
        "function: getSimilarities\n",
        "param(s): text_one, a list of strings; text_two, a list of strings\n",
        "returns: the average similarity of text_one to text_two\n",
        "does: gets the continuous bag of words similarity (avg) between two lists of strings\n",
        "\"\"\"\n",
        "def getSimilarities(text_one, text_two):\n",
        "  cbow_total=0\n",
        "  sg_total=0\n",
        "  count=0\n",
        "\n",
        "  # dynamic programming solution\n",
        "  for word_one in text_one:\n",
        "    cbow_maximum = np.NINF\n",
        "    sg_maximum = np.NINF\n",
        "\n",
        "    for word_two in text_two:\n",
        "      # get continuous bag of words similarity\n",
        "      cbow_maximum = max(cbow_maximum, model.wv.similarity(word_one, word_two))\n",
        "      # get skip gram similarity\n",
        "      sg_maximum = max(sg_maximum, sg_model.wv.similarity(word_one, word_two))\n",
        "\n",
        "    if cbow_maximum > np.NINF or sg_maximum > np.NINF:\n",
        "      cbow_total += cbow_maximum\n",
        "      sg_total += sg_maximum\n",
        "      count += 1\n",
        "  if count is 0:\n",
        "    return 0, 0\n",
        "  return cbow_total/count, sg_total/count"
      ],
      "execution_count": 0,
      "outputs": []
    },
    {
      "cell_type": "code",
      "metadata": {
        "id": "3uftqCvMoJ5l",
        "colab_type": "code",
        "colab": {}
      },
      "source": [
        "\"\"\"\n",
        "function: word2vecNLP\n",
        "param(s): list_one, a list of strings; list_two, a list of strings\n",
        "returns: the average similarity of list_one to list_two\n",
        "\"\"\"\n",
        "def word2vecNLP(list_one, list_two):\n",
        "  cbow_list = []\n",
        "  sg_list = []\n",
        "\n",
        "  for i in range(len(list_one)):\n",
        "    cbow, sg = getSimilarities(list_one[i], list_two[i])\n",
        "    cbow_list.append(cbow)\n",
        "    sg_list.append(sg)\n",
        "\n",
        "  return cbow_list, sg_list"
      ],
      "execution_count": 0,
      "outputs": []
    },
    {
      "cell_type": "code",
      "metadata": {
        "id": "0HY-Mdxmj-qN",
        "colab_type": "code",
        "colab": {}
      },
      "source": [
        "# convert dataframes to lists\n",
        "titles_list = titles.tolist()\n",
        "tags_list = tags.tolist()\n",
        "descriptions_list = descriptions.tolist()\n",
        "channels_list = channels.tolist()\n",
        "categories_list = categories_1.tolist()"
      ],
      "execution_count": 0,
      "outputs": []
    },
    {
      "cell_type": "markdown",
      "metadata": {
        "id": "WBILa94fLI4d",
        "colab_type": "text"
      },
      "source": [
        "**Test with compare tiles and titles**"
      ]
    },
    {
      "cell_type": "code",
      "metadata": {
        "id": "oAmuNugr619G",
        "colab_type": "code",
        "outputId": "89ceb031-a38d-4398-eff8-e416fabef30b",
        "colab": {
          "base_uri": "https://localhost:8080/",
          "height": 72
        }
      },
      "source": [
        "cbow, sg = word2vecNLP(titles_list, titles_list)"
      ],
      "execution_count": 26,
      "outputs": [
        {
          "output_type": "stream",
          "text": [
            "/usr/local/lib/python3.6/dist-packages/gensim/matutils.py:737: FutureWarning: Conversion of the second argument of issubdtype from `int` to `np.signedinteger` is deprecated. In future, it will be treated as `np.int64 == np.dtype(int).type`.\n",
            "  if np.issubdtype(vec.dtype, np.int):\n"
          ],
          "name": "stderr"
        }
      ]
    },
    {
      "cell_type": "code",
      "metadata": {
        "id": "5VglJ83gqf5Y",
        "colab_type": "code",
        "outputId": "a07a2d1b-7246-45f4-fa46-d00d25e1f397",
        "colab": {
          "base_uri": "https://localhost:8080/",
          "height": 70
        }
      },
      "source": [
        "print(len(videos))\n",
        "print(len(cbow))\n",
        "print(len(sg))"
      ],
      "execution_count": 27,
      "outputs": [
        {
          "output_type": "stream",
          "text": [
            "6455\n",
            "6455\n",
            "6455\n"
          ],
          "name": "stdout"
        }
      ]
    },
    {
      "cell_type": "code",
      "metadata": {
        "id": "_dHkw4EnCjdr",
        "colab_type": "code",
        "colab": {}
      },
      "source": [
        "# add lists to dataframe\n",
        "videos[\"cbow_titles_titles\"] = cbow\n",
        "videos[\"sg_titles_titles\"] = sg"
      ],
      "execution_count": 0,
      "outputs": []
    },
    {
      "cell_type": "code",
      "metadata": {
        "id": "EE-d7L9aCf7V",
        "colab_type": "code",
        "colab": {}
      },
      "source": [
        "# replace 0 values with mean\n",
        "videos[\"cbow_titles_titles\"] = videos[\"cbow_titles_titles\"].replace(0, videos[\"cbow_titles_titles\"].mean())\n",
        "videos[\"sg_titles_titles\"]= videos[\"sg_titles_titles\"].replace(0, videos[\"sg_titles_titles\"].mean())"
      ],
      "execution_count": 0,
      "outputs": []
    },
    {
      "cell_type": "code",
      "metadata": {
        "id": "C6q5eroObq9V",
        "colab_type": "code",
        "outputId": "2253db74-32e6-45a3-c7d4-fb5b104dfe9d",
        "colab": {
          "base_uri": "https://localhost:8080/",
          "height": 52
        }
      },
      "source": [
        "print(\"Cosine similarity between titles and titles - CBOW:     {0:.4f}\".format(videos[\"cbow_titles_titles\"].mean()))\n",
        "print(\"Cosine similarity between titles and titles - SG:       {0:.4f}\".format(videos[\"sg_titles_titles\"].mean()))"
      ],
      "execution_count": 30,
      "outputs": [
        {
          "output_type": "stream",
          "text": [
            "Cosine similarity between titles and titles - CBOW:     1.0000\n",
            "Cosine similarity between titles and titles - SG:       1.0000\n"
          ],
          "name": "stdout"
        }
      ]
    },
    {
      "cell_type": "markdown",
      "metadata": {
        "id": "D5vOekvPkHgq",
        "colab_type": "text"
      },
      "source": [
        "# Compare titles and tags"
      ]
    },
    {
      "cell_type": "markdown",
      "metadata": {
        "id": "-e9rNTm9ywZY",
        "colab_type": "text"
      },
      "source": [
        "**Using Word2Vec neural networks, get the similarities of titles and tags**"
      ]
    },
    {
      "cell_type": "code",
      "metadata": {
        "id": "xGIm0C_b9WPO",
        "colab_type": "code",
        "outputId": "17fdf2d7-4620-4b05-ae19-f958aeaf0196",
        "colab": {
          "base_uri": "https://localhost:8080/",
          "height": 72
        }
      },
      "source": [
        "cbow, sg = word2vecNLP(titles_list, tags_list)"
      ],
      "execution_count": 31,
      "outputs": [
        {
          "output_type": "stream",
          "text": [
            "/usr/local/lib/python3.6/dist-packages/gensim/matutils.py:737: FutureWarning: Conversion of the second argument of issubdtype from `int` to `np.signedinteger` is deprecated. In future, it will be treated as `np.int64 == np.dtype(int).type`.\n",
            "  if np.issubdtype(vec.dtype, np.int):\n"
          ],
          "name": "stderr"
        }
      ]
    },
    {
      "cell_type": "code",
      "metadata": {
        "id": "tC4zpkdjpj-L",
        "colab_type": "code",
        "colab": {}
      },
      "source": [
        "# add lists to dataframe\n",
        "videos[\"cbow_titles_tags\"] = cbow\n",
        "videos[\"sg_titles_tags\"] = sg"
      ],
      "execution_count": 0,
      "outputs": []
    },
    {
      "cell_type": "code",
      "metadata": {
        "id": "86cEnNMzB1gH",
        "colab_type": "code",
        "colab": {}
      },
      "source": [
        "# replace 0 values with mean\n",
        "videos[\"cbow_titles_tags\"] = videos[\"cbow_titles_tags\"].replace(0.0, videos[\"cbow_titles_tags\"].mean())\n",
        "videos[\"sg_titles_tags\"] = videos[\"sg_titles_tags\"].replace(0.0, videos[\"sg_titles_tags\"].mean())"
      ],
      "execution_count": 0,
      "outputs": []
    },
    {
      "cell_type": "markdown",
      "metadata": {
        "id": "t-N8lcb_y9BL",
        "colab_type": "text"
      },
      "source": [
        "**Average Similarities**"
      ]
    },
    {
      "cell_type": "code",
      "metadata": {
        "id": "Ft1chUPIkPw3",
        "colab_type": "code",
        "outputId": "cc7b9721-a84f-4e5b-9f75-ac2102c1d5db",
        "colab": {
          "base_uri": "https://localhost:8080/",
          "height": 52
        }
      },
      "source": [
        "print(\"Cosine similarity between titles and tags - CBOW:     {0:.4f}\".format(videos[\"cbow_titles_tags\"].mean()))\n",
        "print(\"Cosine similarity between titles and tags - SG:       {0:.4f}\".format(videos[\"sg_titles_tags\"].mean()))"
      ],
      "execution_count": 34,
      "outputs": [
        {
          "output_type": "stream",
          "text": [
            "Cosine similarity between titles and tags - CBOW:     0.9485\n",
            "Cosine similarity between titles and tags - SG:       0.8914\n"
          ],
          "name": "stdout"
        }
      ]
    },
    {
      "cell_type": "markdown",
      "metadata": {
        "id": "Q79nAeuNzAUU",
        "colab_type": "text"
      },
      "source": [
        "**Visualization**"
      ]
    },
    {
      "cell_type": "code",
      "metadata": {
        "id": "HIgxgO7Fv3ko",
        "colab_type": "code",
        "outputId": "5885d5d2-6a62-4405-e068-227ec2603386",
        "colab": {
          "base_uri": "https://localhost:8080/",
          "height": 559
        }
      },
      "source": [
        "videos.plot(kind=\"scatter\", x=\"views\", y=\"cbow_titles_tags\", alpha=0.5)\n",
        "# use colors to show clusters of views 100k - 200k ...\n",
        "# does it cluser well with title, description, tags..\n",
        "videos.plot(kind=\"scatter\", x=\"views\", y=\"sg_titles_tags\", alpha=0.5)"
      ],
      "execution_count": 35,
      "outputs": [
        {
          "output_type": "execute_result",
          "data": {
            "text/plain": [
              "<matplotlib.axes._subplots.AxesSubplot at 0x7f1474d05cc0>"
            ]
          },
          "metadata": {
            "tags": []
          },
          "execution_count": 35
        },
        {
          "output_type": "display_data",
          "data": {
            "image/png": "[encoded data removed]",
            "text/plain": [
              "<Figure size 432x288 with 1 Axes>"
            ]
          },
          "metadata": {
            "tags": []
          }
        },
        {
          "output_type": "display_data",
          "data": {
            "image/png": "[encoded data removed]",
            "text/plain": [
              "<Figure size 432x288 with 1 Axes>"
            ]
          },
          "metadata": {
            "tags": []
          }
        }
      ]
    },
    {
      "cell_type": "code",
      "metadata": {
        "id": "-VI7lpp-rqK2",
        "colab_type": "code",
        "outputId": "af2f5356-94fb-4b9e-b213-9fecfc10be62",
        "colab": {
          "base_uri": "https://localhost:8080/",
          "height": 765
        }
      },
      "source": [
        "# source https://www.kaggle.com/kabure/extensive-usa-youtube-eda\n",
        "\n",
        "plt.figure(figsize = (12,18))\n",
        "\n",
        "plt.subplot(311)\n",
        "cat_graph_1 = sns.boxplot(x='category',y='cbow_titles_tags',  data=videos)\n",
        "cat_graph_1.set_xticklabels(cat_graph_1.get_xticklabels(),rotation=45)\n",
        "\n",
        "plt.subplot(312)\n",
        "cat_graph_2 = sns.boxplot(x='category',y='sg_titles_tags',  data=videos)\n",
        "cat_graph_2.set_xticklabels(cat_graph_2.get_xticklabels(),rotation=45)\n",
        "\n",
        "plt.subplots_adjust(wspace=0.2, hspace=0.5, top=0.9)\n",
        "\n",
        "plt.show()"
      ],
      "execution_count": 36,
      "outputs": [
        {
          "output_type": "display_data",
          "data": {
            "image/png": "[encoded data removed]",
            "text/plain": [
              "<Figure size 864x1296 with 2 Axes>"
            ]
          },
          "metadata": {
            "tags": []
          }
        }
      ]
    },
    {
      "cell_type": "code",
      "metadata": {
        "id": "iBN9RHaEmyCN",
        "colab_type": "code",
        "colab": {
          "base_uri": "https://localhost:8080/",
          "height": 560
        },
        "outputId": "2956b209-b82b-46d2-e52e-bb8d4be68ab2"
      },
      "source": [
        "videos.plot(kind=\"scatter\", x=\"cbow_titles_tags\", y=\"cbow_titles_tags\", alpha=0.1)\n",
        "# use colors to show clusters of views 100k - 200k ...\n",
        "# does it cluser well with title, description, tags..\n",
        "videos.plot(kind=\"scatter\", x=\"views\", y=\"sg_titles_tags\", alpha=0.1)"
      ],
      "execution_count": 39,
      "outputs": [
        {
          "output_type": "execute_result",
          "data": {
            "text/plain": [
              "<matplotlib.axes._subplots.AxesSubplot at 0x7f1474212278>"
            ]
          },
          "metadata": {
            "tags": []
          },
          "execution_count": 39
        },
        {
          "output_type": "display_data",
          "data": {
            "image/png": "[encoded data removed]",
            "text/plain": [
              "<Figure size 432x288 with 1 Axes>"
            ]
          },
          "metadata": {
            "tags": []
          }
        },
        {
          "output_type": "display_data",
          "data": {
            "image/png": "[encoded data removed]",
            "text/plain": [
              "<Figure size 432x288 with 1 Axes>"
            ]
          },
          "metadata": {
            "tags": []
          }
        }
      ]
    },
    {
      "cell_type": "code",
      "metadata": {
        "id": "V0aRl1or69vl",
        "colab_type": "code",
        "colab": {}
      },
      "source": [
        "from sklearn.neighbors import NearestNeighbors\n",
        "\n",
        "def create_coordinates(videos):\n",
        "  coordinate_list = []\n",
        "  index =0\n",
        "  for score in videos['cbow_titles_tags']:\n",
        "    coordinate_list.append([score, index])\n",
        "    index +=1\n",
        "  return coordinate_list\n",
        "\n",
        "coordinates = create_coordinates(videos)\n",
        "model = NearestNeighbors(n_neighbors=2, algorithm='ball_tree').fit(coordinates)\n",
        "distances, indices = model.kneighbors(coordinates)\n",
        "\n",
        "print(distances)\n",
        "print(len(videos['cbow_titles_tags']))\n",
        "\n",
        "print(indices)\n",
        "\n",
        "plt.scatter(distances, videos['cbow_titles_tags'].tolist,  c='k')\n",
        "plt.axis('tight')\n",
        "plt.tight_layout()\n",
        "plt.show()\n",
        "# print(np.array(videos['cbow_titles_tags'].apply(lambda x: [x,videos['cbow_titles_tags']])))\n",
        "\n",
        "# model.kneighbors_graph(coordinates).toarray()"
      ],
      "execution_count": 0,
      "outputs": []
    },
    {
      "cell_type": "code",
      "metadata": {
        "id": "7cVQM53NMaO2",
        "colab_type": "code",
        "colab": {}
      },
      "source": [
        "n_neighbors = 5\n",
        "\n",
        "for i, weights in enumerate(['uniform', 'distance']):\n",
        "    knn = neighbors.KNeighborsRegressor(n_neighbors, weights=weights)\n",
        "    y_ = knn.fit(videos['cbow_titles_tags'], videos['cbow_titles_tags']).predict(videos)\n",
        "\n",
        "    plt.subplot(2, 1, i + 1)\n",
        "    plt.scatter(X, y, c='k', label='data')\n",
        "    plt.plot(T, y_, c='g', label='prediction')\n",
        "    plt.axis('tight')\n",
        "    plt.legend()\n",
        "    plt.title(\"KNeighborsRegressor (k = %i, weights = '%s')\" % (n_neighbors,\n",
        "                                                                weights))\n",
        "\n",
        "plt.tight_layout()\n",
        "plt.show()"
      ],
      "execution_count": 0,
      "outputs": []
    },
    {
      "cell_type": "code",
      "metadata": {
        "id": "S_1dpfc1KqlL",
        "colab_type": "code",
        "colab": {}
      },
      "source": [
        "import matplotlib\n",
        "\n",
        "import numpy as np\n",
        "import matplotlib.pyplot as plt\n",
        "from matplotlib.colors import ListedColormap\n",
        "from sklearn import neighbors, datasets\n",
        "\n",
        "\n",
        "h = .02\n",
        "# Calculate min, max and limits\n",
        "x_min, x_max = -50, 100\n",
        "y_min, y_max = -50, 100\n",
        "xx, yy = np.meshgrid(np.arange(x_min, x_max, h), np.arange(y_min, y_max, h))\n",
        "\n",
        "# Put the result into a color plot\n",
        "plt.figure()\n",
        "plt.scatter(indices, videos['cbow_titles_tags'])\n",
        "plt.xlim(xx.min(), xx.max())\n",
        "plt.ylim(yy.min(), yy.max())\n",
        "plt.title(\"Data points\")\n",
        "plt.show()"
      ],
      "execution_count": 0,
      "outputs": []
    },
    {
      "cell_type": "markdown",
      "metadata": {
        "id": "KZq8plrbkdo5",
        "colab_type": "text"
      },
      "source": [
        "# Compare titles and descriptions"
      ]
    },
    {
      "cell_type": "markdown",
      "metadata": {
        "id": "TGh_dSF7z3E8",
        "colab_type": "text"
      },
      "source": [
        "**Using Word2Vec neural networks, get the similarities of titles and descriptions**"
      ]
    },
    {
      "cell_type": "code",
      "metadata": {
        "id": "-1ZQ7y24bQwS",
        "colab_type": "code",
        "colab": {}
      },
      "source": [
        "cbow, sg = word2vecNLP(titles_list, descriptions_list)"
      ],
      "execution_count": 0,
      "outputs": []
    },
    {
      "cell_type": "code",
      "metadata": {
        "colab_type": "code",
        "id": "XB0tB9nAzQB6",
        "colab": {}
      },
      "source": [
        "# add lists to dataframe\n",
        "videos[\"cbow_titles_descriptions\"] = cbow\n",
        "videos[\"sg_titles_descriptions\"] = sg"
      ],
      "execution_count": 0,
      "outputs": []
    },
    {
      "cell_type": "code",
      "metadata": {
        "id": "xjN4II3SLH-D",
        "colab_type": "code",
        "colab": {}
      },
      "source": [
        "# replace 0 values with mean\n",
        "videos[\"cbow_titles_descriptions\"] = videos[\"cbow_titles_descriptions\"].replace(0, videos[\"cbow_titles_descriptions\"].mean())\n",
        "videos[\"sg_titles_descriptions\"] = videos[\"sg_titles_descriptions\"].replace(0, videos[\"sg_titles_descriptions\"].mean())"
      ],
      "execution_count": 0,
      "outputs": []
    },
    {
      "cell_type": "markdown",
      "metadata": {
        "id": "89AP1hyw00-t",
        "colab_type": "text"
      },
      "source": [
        "**Average Similarities**"
      ]
    },
    {
      "cell_type": "code",
      "metadata": {
        "id": "KZINdFZjknyk",
        "colab_type": "code",
        "colab": {}
      },
      "source": [
        "print(\"Cosine similarity between titles and descriptions - CBOW:     {0:.4f}\".format(videos[\"cbow_titles_descriptions\"].mean()))\n",
        "print(\"Cosine similarity between titles and descriptions - SG:       {0:.4f}\".format(videos[\"sg_titles_descriptions\"].mean()))"
      ],
      "execution_count": 0,
      "outputs": []
    },
    {
      "cell_type": "markdown",
      "metadata": {
        "id": "zJVY4ZGf0yn_",
        "colab_type": "text"
      },
      "source": [
        "**Visualization**"
      ]
    },
    {
      "cell_type": "code",
      "metadata": {
        "colab_type": "code",
        "id": "_bdrGdYq0hp1",
        "colab": {}
      },
      "source": [
        "videos.plot(kind=\"scatter\", x=\"views\", y=\"cbow_titles_descriptions\", alpha=0.5)\n",
        "# transpose x=corr and clustering knn for unseen video, k videos that have largest cosine similarity, sets of keywords in clusters, \n",
        "videos.plot(kind=\"scatter\", x=\"views\", y=\"sg_titles_descriptions\", alpha=0.5)"
      ],
      "execution_count": 0,
      "outputs": []
    },
    {
      "cell_type": "code",
      "metadata": {
        "colab_type": "code",
        "id": "asZiXUfb0g--",
        "colab": {}
      },
      "source": [
        "# source https://www.kaggle.com/kabure/extensive-usa-youtube-eda\n",
        "\n",
        "plt.figure(figsize = (12,18))\n",
        "\n",
        "plt.subplot(311)\n",
        "cat_graph_1 = sns.boxplot(x='category',y='cbow_titles_tags',  data=videos)\n",
        "cat_graph_1.set_xticklabels(cat_graph_1.get_xticklabels(),rotation=45)\n",
        "\n",
        "plt.subplot(312)\n",
        "cat_graph_2 = sns.boxplot(x='category',y='sg_titles_tags',  data=videos)\n",
        "cat_graph_2.set_xticklabels(cat_graph_2.get_xticklabels(),rotation=45)\n",
        "\n",
        "plt.subplots_adjust(wspace=0.2, hspace=0.5, top=0.9)\n",
        "\n",
        "plt.show()"
      ],
      "execution_count": 0,
      "outputs": []
    },
    {
      "cell_type": "markdown",
      "metadata": {
        "id": "cDd8vrKHk3Oe",
        "colab_type": "text"
      },
      "source": [
        "# Compare titles and channels"
      ]
    },
    {
      "cell_type": "markdown",
      "metadata": {
        "colab_type": "text",
        "id": "tlE_6I1y6bsV"
      },
      "source": [
        "**Using Word2Vec neural networks, get the similarities of titles and channels**"
      ]
    },
    {
      "cell_type": "code",
      "metadata": {
        "id": "F_9yb_P2dHKV",
        "colab_type": "code",
        "colab": {}
      },
      "source": [
        "cbow, sg = word2vecNLP(titles_list, channels_list)"
      ],
      "execution_count": 0,
      "outputs": []
    },
    {
      "cell_type": "code",
      "metadata": {
        "id": "pOKI4f_L1HT6",
        "colab_type": "code",
        "colab": {}
      },
      "source": [
        "# add lists to dataframe\n",
        "videos[\"cbow_titles_channels\"] = cbow\n",
        "videos[\"sg_titles_channels\"] = sg"
      ],
      "execution_count": 0,
      "outputs": []
    },
    {
      "cell_type": "code",
      "metadata": {
        "id": "ZG0Z8o7aM0vC",
        "colab_type": "code",
        "colab": {}
      },
      "source": [
        "# replace 0 values with mean\n",
        "videos[\"cbow_titles_channels\"] = videos[\"cbow_titles_channels\"].replace(0, videos[\"cbow_titles_channels\"].mean())\n",
        "videos[\"sg_titles_channels\"] = videos[\"sg_titles_channels\"].replace(0, videos[\"sg_titles_channels\"].mean())"
      ],
      "execution_count": 0,
      "outputs": []
    },
    {
      "cell_type": "markdown",
      "metadata": {
        "id": "EcnB7GLu06WR",
        "colab_type": "text"
      },
      "source": [
        "**Average Similarities**"
      ]
    },
    {
      "cell_type": "code",
      "metadata": {
        "id": "AeNHu8MAk7e7",
        "colab_type": "code",
        "colab": {}
      },
      "source": [
        "print(\"Cosine similarity between titles and channels - CBOW:     {0:.4f}\".format(videos[\"cbow_titles_channels\"].mean()))\n",
        "print(\"Cosine similarity between titles and channels - SG:       {0:.4f}\".format(videos[\"sg_titles_channels\"].mean()))"
      ],
      "execution_count": 0,
      "outputs": []
    },
    {
      "cell_type": "markdown",
      "metadata": {
        "id": "UjbJH9jB1uuM",
        "colab_type": "text"
      },
      "source": [
        "**Visualization**"
      ]
    },
    {
      "cell_type": "code",
      "metadata": {
        "id": "OCj2QThH1qmi",
        "colab_type": "code",
        "colab": {}
      },
      "source": [
        "videos.plot(kind=\"scatter\", x=\"views\", y=\"cbow_titles_channels\", alpha=0.5)\n",
        "videos.plot(kind=\"scatter\", x=\"views\", y=\"sg_titles_channels\", alpha=0.5)"
      ],
      "execution_count": 0,
      "outputs": []
    },
    {
      "cell_type": "code",
      "metadata": {
        "id": "V6t6aXhv16LA",
        "colab_type": "code",
        "colab": {}
      },
      "source": [
        "# source https://www.kaggle.com/kabure/extensive-usa-youtube-eda\n",
        "\n",
        "plt.figure(figsize = (12,18))\n",
        "\n",
        "plt.subplot(311)\n",
        "cat_graph_1 = sns.boxplot(x='category',y='cbow_titles_channels',  data=videos)\n",
        "cat_graph_1.set_xticklabels(cat_graph_1.get_xticklabels(),rotation=45)\n",
        "\n",
        "plt.subplot(312)\n",
        "cat_graph_2 = sns.boxplot(x='category',y='sg_titles_channels',  data=videos)\n",
        "cat_graph_2.set_xticklabels(cat_graph_2.get_xticklabels(),rotation=45)\n",
        "\n",
        "plt.subplots_adjust(wspace=0.2, hspace=0.5, top=0.9)\n",
        "\n",
        "plt.show()"
      ],
      "execution_count": 0,
      "outputs": []
    },
    {
      "cell_type": "markdown",
      "metadata": {
        "id": "oxn-g3xVk_UN",
        "colab_type": "text"
      },
      "source": [
        "# Compares titles and categories"
      ]
    },
    {
      "cell_type": "markdown",
      "metadata": {
        "colab_type": "text",
        "id": "VsbReiVU6fWi"
      },
      "source": [
        "**Using Word2Vec neural networks, get the similarities of titles and categories**"
      ]
    },
    {
      "cell_type": "code",
      "metadata": {
        "id": "afysDjB0LYhq",
        "colab_type": "code",
        "colab": {}
      },
      "source": [
        "cbow, sg = word2vecNLP(titles_list, categories_list)"
      ],
      "execution_count": 0,
      "outputs": []
    },
    {
      "cell_type": "code",
      "metadata": {
        "id": "VZV8sNc_1L9N",
        "colab_type": "code",
        "colab": {}
      },
      "source": [
        "# add lists to dataframe\n",
        "videos[\"cbow_titles_categories\"] = cbow\n",
        "videos[\"sg_titles_categories\"] = sg"
      ],
      "execution_count": 0,
      "outputs": []
    },
    {
      "cell_type": "code",
      "metadata": {
        "id": "SFmpMX9WNBWV",
        "colab_type": "code",
        "colab": {}
      },
      "source": [
        "# replace 0 values with mean\n",
        "videos[\"cbow_titles_categories\"] = videos[\"cbow_titles_categories\"].replace(0, videos[\"cbow_titles_categories\"].mean())\n",
        "videos[\"sg_titles_categories\"] = videos[\"sg_titles_categories\"].replace(0, videos[\"sg_titles_categories\"].mean())"
      ],
      "execution_count": 0,
      "outputs": []
    },
    {
      "cell_type": "markdown",
      "metadata": {
        "id": "bOy_EIMH09sn",
        "colab_type": "text"
      },
      "source": [
        "**Average Similarities**"
      ]
    },
    {
      "cell_type": "code",
      "metadata": {
        "id": "bHCsT6lJlNWi",
        "colab_type": "code",
        "colab": {}
      },
      "source": [
        "print(\"Cosine similarity between titles and categories - CBOW:     {0:.4f}\".format(videos[\"cbow_titles_categories\"].mean()))\n",
        "print(\"Cosine similarity between titles and categories - SG:       {0:.4f}\".format(videos[\"sg_titles_categories\"].mean()))"
      ],
      "execution_count": 0,
      "outputs": []
    },
    {
      "cell_type": "markdown",
      "metadata": {
        "id": "Tgtk0tWH1xNp",
        "colab_type": "text"
      },
      "source": [
        "**Visualization**"
      ]
    },
    {
      "cell_type": "code",
      "metadata": {
        "id": "iph2RSw11ykG",
        "colab_type": "code",
        "colab": {}
      },
      "source": [
        "videos.plot(kind=\"scatter\", x=\"views\", y=\"cbow_titles_categories\", alpha=0.5)\n",
        "videos.plot(kind=\"scatter\", x=\"views\", y=\"sg_titles_categories\", alpha=0.5)"
      ],
      "execution_count": 0,
      "outputs": []
    },
    {
      "cell_type": "code",
      "metadata": {
        "id": "-8RYpvhj1_ix",
        "colab_type": "code",
        "colab": {}
      },
      "source": [
        "# source https://www.kaggle.com/kabure/extensive-usa-youtube-eda\n",
        "\n",
        "plt.figure(figsize = (12,18))\n",
        "\n",
        "plt.subplot(311)\n",
        "cat_graph_1 = sns.boxplot(x='category',y='cbow_titles_categories',  data=videos)\n",
        "cat_graph_1.set_xticklabels(cat_graph_1.get_xticklabels(),rotation=45)\n",
        "\n",
        "plt.subplot(312)\n",
        "cat_graph_2 = sns.boxplot(x='category',y='sg_titles_categories',  data=videos)\n",
        "cat_graph_2.set_xticklabels(cat_graph_2.get_xticklabels(),rotation=45)\n",
        "\n",
        "plt.subplots_adjust(wspace=0.2, hspace=0.5, top=0.9)\n",
        "\n",
        "plt.show()"
      ],
      "execution_count": 0,
      "outputs": []
    },
    {
      "cell_type": "markdown",
      "metadata": {
        "id": "mmQt3e02lRsq",
        "colab_type": "text"
      },
      "source": [
        "# Compare tags and categories"
      ]
    },
    {
      "cell_type": "markdown",
      "metadata": {
        "colab_type": "text",
        "id": "tnd9eqj16jZD"
      },
      "source": [
        "**Using Word2Vec neural networks, get the similarities of tags and categories**"
      ]
    },
    {
      "cell_type": "code",
      "metadata": {
        "id": "j5Z-9yw2MeNb",
        "colab_type": "code",
        "colab": {}
      },
      "source": [
        "cbow, sg = word2vecNLP(tags_list, categories_list)"
      ],
      "execution_count": 0,
      "outputs": []
    },
    {
      "cell_type": "code",
      "metadata": {
        "id": "DlLoSBx42JoF",
        "colab_type": "code",
        "colab": {}
      },
      "source": [
        "# add lists to dataframe\n",
        "videos[\"cbow_tags_categories\"] = cbow\n",
        "videos[\"sg_tags_categories\"] = sg"
      ],
      "execution_count": 0,
      "outputs": []
    },
    {
      "cell_type": "code",
      "metadata": {
        "id": "RL9Mg0pkNLMt",
        "colab_type": "code",
        "colab": {}
      },
      "source": [
        "# replace 0 values with mean\n",
        "videos[\"cbow_tags_categories\"] = videos[\"cbow_tags_categories\"].replace(0, videos[\"cbow_tags_categories\"].mean())\n",
        "videos[\"sg_tags_categories\"] = videos[\"sg_tags_categories\"].replace(0, videos[\"sg_tags_categories\"].mean())"
      ],
      "execution_count": 0,
      "outputs": []
    },
    {
      "cell_type": "markdown",
      "metadata": {
        "id": "bkCRL9vn1AZq",
        "colab_type": "text"
      },
      "source": [
        "**Average Similarities**"
      ]
    },
    {
      "cell_type": "code",
      "metadata": {
        "id": "v4WNuNu0lOME",
        "colab_type": "code",
        "colab": {}
      },
      "source": [
        "print(\"Cosine similarity between tags and categories - CBOW:     {0:.4f}\".format(videos[\"cbow_tags_categories\"].mean()))\n",
        "print(\"Cosine similarity between tags and categories - SG:       {0:.4f}\".format(videos[\"sg_tags_categories\"].mean()))"
      ],
      "execution_count": 0,
      "outputs": []
    },
    {
      "cell_type": "markdown",
      "metadata": {
        "id": "-9bqIkUd2Wgp",
        "colab_type": "text"
      },
      "source": [
        "**Visualization**"
      ]
    },
    {
      "cell_type": "code",
      "metadata": {
        "id": "JlwbDWpY2UG_",
        "colab_type": "code",
        "colab": {}
      },
      "source": [
        "videos.plot(kind=\"scatter\", x=\"views\", y=\"cbow_tags_categories\", alpha=0.5)\n",
        "videos.plot(kind=\"scatter\", x=\"views\", y=\"sg_tags_categories\", alpha=0.5)"
      ],
      "execution_count": 0,
      "outputs": []
    },
    {
      "cell_type": "code",
      "metadata": {
        "id": "plsCXjhN2PPu",
        "colab_type": "code",
        "colab": {}
      },
      "source": [
        "# source https://www.kaggle.com/kabure/extensive-usa-youtube-eda\n",
        "\n",
        "plt.figure(figsize = (12,18))\n",
        "\n",
        "plt.subplot(311)\n",
        "cat_graph_1 = sns.boxplot(x='category',y='cbow_tags_categories',  data=videos)\n",
        "cat_graph_1.set_xticklabels(cat_graph_1.get_xticklabels(),rotation=45)\n",
        "\n",
        "plt.subplot(312)\n",
        "cat_graph_2 = sns.boxplot(x='category',y='sg_tags_categories',  data=videos)\n",
        "cat_graph_2.set_xticklabels(cat_graph_2.get_xticklabels(),rotation=45)\n",
        "\n",
        "plt.subplots_adjust(wspace=0.2, hspace=0.5, top=0.9)\n",
        "\n",
        "plt.show()"
      ],
      "execution_count": 0,
      "outputs": []
    },
    {
      "cell_type": "markdown",
      "metadata": {
        "id": "Yb9lD4uMvovh",
        "colab_type": "text"
      },
      "source": [
        "# Classification"
      ]
    },
    {
      "cell_type": "code",
      "metadata": {
        "id": "LJwVvfc_yKtR",
        "colab_type": "code",
        "colab": {}
      },
      "source": [
        "from sklearn.pipeline import Pipeline\n",
        "from sklearn.linear_model import LogisticRegression\n",
        "from sklearn.metrics import roc_auc_score\n",
        "from sklearn.metrics import confusion_matrix\n",
        "from sklearn.metrics import precision_recall_fscore_support\n",
        "from sklearn.metrics import precision_recall_curve\n",
        "from sklearn.feature_extraction.text import TfidfVectorizer\n",
        "from inspect import signature\n",
        "from sklearn.feature_extraction.text import HashingVectorizer\n",
        "from sklearn.neural_network import MLPClassifier\n",
        "from google.colab import drive\n",
        "from sklearn.tree import DecisionTreeClassifier\n",
        "from sklearn.linear_model import LogisticRegressionCV\n",
        "from sklearn import metrics\n",
        "from sklearn.pipeline import FeatureUnion\n",
        "from sklearn.model_selection import GridSearchCV\n",
        "from sklearn.ensemble import RandomForestClassifier\n",
        "import pandas as pd\n",
        "from sklearn.metrics import accuracy_score"
      ],
      "execution_count": 0,
      "outputs": []
    },
    {
      "cell_type": "code",
      "metadata": {
        "id": "1c7WkZwjyJIp",
        "colab_type": "code",
        "colab": {
          "base_uri": "https://localhost:8080/",
          "height": 125
        },
        "outputId": "3bc288fe-659b-473f-deb1-6018de3eaaa7"
      },
      "source": [
        "drive.mount('/content/drive')"
      ],
      "execution_count": 2,
      "outputs": [
        {
          "output_type": "stream",
          "text": [
            "Go to this URL in a browser: https://accounts.google.com/o/oauth2/auth?client_id=947318989803-6bn6qk8qdgf4n4g3pfee6491hc0brc4i.apps.googleusercontent.com&redirect_uri=urn%3aietf%3awg%3aoauth%3a2.0%3aoob&response_type=code&scope=email%20https%3a%2f%2fwww.googleapis.com%2fauth%2fdocs.test%20https%3a%2f%2fwww.googleapis.com%2fauth%2fdrive%20https%3a%2f%2fwww.googleapis.com%2fauth%2fdrive.photos.readonly%20https%3a%2f%2fwww.googleapis.com%2fauth%2fpeopleapi.readonly\n",
            "\n",
            "Enter your authorization code:\n",
            "··········\n",
            "Mounted at /content/drive\n"
          ],
          "name": "stdout"
        }
      ]
    },
    {
      "cell_type": "code",
      "metadata": {
        "id": "kD2Kq0aUyDlp",
        "colab_type": "code",
        "colab": {}
      },
      "source": [
        "UNITED_STATES_VID = \"/content/drive/My Drive/cs6140 project/data/USvideos.csv\"\n",
        "videos = pd.read_csv(UNITED_STATES_VID)\n",
        "\n",
        "UNITED_STATES_CAT = \"/content/drive/My Drive/cs6140 project/data/US_category_id.json\"\n",
        "videos_categories = pd.read_json(UNITED_STATES_CAT)"
      ],
      "execution_count": 0,
      "outputs": []
    },
    {
      "cell_type": "code",
      "metadata": {
        "id": "MiqNu8BDzQHU",
        "colab_type": "code",
        "colab": {}
      },
      "source": [
        "# source: https://www.kaggle.com/skalskip/youtube-data-exploration-and-plotly-visualization\n",
        "\n",
        "categories = {category['id']: category['snippet']['title'] for category in videos_categories['items']}\n",
        "videos.insert(4, 'category', videos['category_id'].astype(str).map(categories))"
      ],
      "execution_count": 0,
      "outputs": []
    },
    {
      "cell_type": "markdown",
      "metadata": {
        "id": "usQKSpYSxw9v",
        "colab_type": "text"
      },
      "source": [
        "# Classify `category` using NLP"
      ]
    },
    {
      "cell_type": "code",
      "metadata": {
        "id": "Fz9bxAVpwTE4",
        "colab_type": "code",
        "colab": {
          "base_uri": "https://localhost:8080/",
          "height": 521
        },
        "outputId": "ae4e325c-d558-484d-f4da-596f4ed64d4f"
      },
      "source": [
        "videos.head()"
      ],
      "execution_count": 29,
      "outputs": [
        {
          "output_type": "execute_result",
          "data": {
            "text/html": [
              "<div>\n",
              "<style scoped>\n",
              "    .dataframe tbody tr th:only-of-type {\n",
              "        vertical-align: middle;\n",
              "    }\n",
              "\n",
              "    .dataframe tbody tr th {\n",
              "        vertical-align: top;\n",
              "    }\n",
              "\n",
              "    .dataframe thead th {\n",
              "        text-align: right;\n",
              "    }\n",
              "</style>\n",
              "<table border=\"1\" class=\"dataframe\">\n",
              "  <thead>\n",
              "    <tr style=\"text-align: right;\">\n",
              "      <th></th>\n",
              "      <th>video_id</th>\n",
              "      <th>trending_date</th>\n",
              "      <th>title</th>\n",
              "      <th>channel_title</th>\n",
              "      <th>category</th>\n",
              "      <th>category_id</th>\n",
              "      <th>publish_time</th>\n",
              "      <th>tags</th>\n",
              "      <th>views</th>\n",
              "      <th>likes</th>\n",
              "      <th>dislikes</th>\n",
              "      <th>comment_count</th>\n",
              "      <th>thumbnail_link</th>\n",
              "      <th>comments_disabled</th>\n",
              "      <th>ratings_disabled</th>\n",
              "      <th>video_error_or_removed</th>\n",
              "      <th>description</th>\n",
              "    </tr>\n",
              "  </thead>\n",
              "  <tbody>\n",
              "    <tr>\n",
              "      <th>0</th>\n",
              "      <td>2kyS6SvSYSE</td>\n",
              "      <td>17.14.11</td>\n",
              "      <td>WE WANT TO TALK ABOUT OUR MARRIAGE</td>\n",
              "      <td>CaseyNeistat</td>\n",
              "      <td>People &amp; Blogs</td>\n",
              "      <td>22</td>\n",
              "      <td>2017-11-13T17:13:01.000Z</td>\n",
              "      <td>SHANtell martin</td>\n",
              "      <td>748374</td>\n",
              "      <td>57527</td>\n",
              "      <td>2966</td>\n",
              "      <td>15954</td>\n",
              "      <td>https://i.ytimg.com/vi/2kyS6SvSYSE/default.jpg</td>\n",
              "      <td>False</td>\n",
              "      <td>False</td>\n",
              "      <td>False</td>\n",
              "      <td>SHANTELL'S CHANNEL - https://www.youtube.com/s...</td>\n",
              "    </tr>\n",
              "    <tr>\n",
              "      <th>1</th>\n",
              "      <td>1ZAPwfrtAFY</td>\n",
              "      <td>17.14.11</td>\n",
              "      <td>The Trump Presidency: Last Week Tonight with J...</td>\n",
              "      <td>LastWeekTonight</td>\n",
              "      <td>Entertainment</td>\n",
              "      <td>24</td>\n",
              "      <td>2017-11-13T07:30:00.000Z</td>\n",
              "      <td>last week tonight trump presidency|\"last week ...</td>\n",
              "      <td>2418783</td>\n",
              "      <td>97185</td>\n",
              "      <td>6146</td>\n",
              "      <td>12703</td>\n",
              "      <td>https://i.ytimg.com/vi/1ZAPwfrtAFY/default.jpg</td>\n",
              "      <td>False</td>\n",
              "      <td>False</td>\n",
              "      <td>False</td>\n",
              "      <td>One year after the presidential election, John...</td>\n",
              "    </tr>\n",
              "    <tr>\n",
              "      <th>2</th>\n",
              "      <td>5qpjK5DgCt4</td>\n",
              "      <td>17.14.11</td>\n",
              "      <td>Racist Superman | Rudy Mancuso, King Bach &amp; Le...</td>\n",
              "      <td>Rudy Mancuso</td>\n",
              "      <td>Comedy</td>\n",
              "      <td>23</td>\n",
              "      <td>2017-11-12T19:05:24.000Z</td>\n",
              "      <td>racist superman|\"rudy\"|\"mancuso\"|\"king\"|\"bach\"...</td>\n",
              "      <td>3191434</td>\n",
              "      <td>146033</td>\n",
              "      <td>5339</td>\n",
              "      <td>8181</td>\n",
              "      <td>https://i.ytimg.com/vi/5qpjK5DgCt4/default.jpg</td>\n",
              "      <td>False</td>\n",
              "      <td>False</td>\n",
              "      <td>False</td>\n",
              "      <td>WATCH MY PREVIOUS VIDEO ▶ \\n\\nSUBSCRIBE ► http...</td>\n",
              "    </tr>\n",
              "    <tr>\n",
              "      <th>3</th>\n",
              "      <td>puqaWrEC7tY</td>\n",
              "      <td>17.14.11</td>\n",
              "      <td>Nickelback Lyrics: Real or Fake?</td>\n",
              "      <td>Good Mythical Morning</td>\n",
              "      <td>Entertainment</td>\n",
              "      <td>24</td>\n",
              "      <td>2017-11-13T11:00:04.000Z</td>\n",
              "      <td>rhett and link|\"gmm\"|\"good mythical morning\"|\"...</td>\n",
              "      <td>343168</td>\n",
              "      <td>10172</td>\n",
              "      <td>666</td>\n",
              "      <td>2146</td>\n",
              "      <td>https://i.ytimg.com/vi/puqaWrEC7tY/default.jpg</td>\n",
              "      <td>False</td>\n",
              "      <td>False</td>\n",
              "      <td>False</td>\n",
              "      <td>Today we find out if Link is a Nickelback amat...</td>\n",
              "    </tr>\n",
              "    <tr>\n",
              "      <th>4</th>\n",
              "      <td>d380meD0W0M</td>\n",
              "      <td>17.14.11</td>\n",
              "      <td>I Dare You: GOING BALD!?</td>\n",
              "      <td>nigahiga</td>\n",
              "      <td>Entertainment</td>\n",
              "      <td>24</td>\n",
              "      <td>2017-11-12T18:01:41.000Z</td>\n",
              "      <td>ryan|\"higa\"|\"higatv\"|\"nigahiga\"|\"i dare you\"|\"...</td>\n",
              "      <td>2095731</td>\n",
              "      <td>132235</td>\n",
              "      <td>1989</td>\n",
              "      <td>17518</td>\n",
              "      <td>https://i.ytimg.com/vi/d380meD0W0M/default.jpg</td>\n",
              "      <td>False</td>\n",
              "      <td>False</td>\n",
              "      <td>False</td>\n",
              "      <td>I know it's been a while since we did this sho...</td>\n",
              "    </tr>\n",
              "  </tbody>\n",
              "</table>\n",
              "</div>"
            ],
            "text/plain": [
              "      video_id  ...                                        description\n",
              "0  2kyS6SvSYSE  ...  SHANTELL'S CHANNEL - https://www.youtube.com/s...\n",
              "1  1ZAPwfrtAFY  ...  One year after the presidential election, John...\n",
              "2  5qpjK5DgCt4  ...  WATCH MY PREVIOUS VIDEO ▶ \\n\\nSUBSCRIBE ► http...\n",
              "3  puqaWrEC7tY  ...  Today we find out if Link is a Nickelback amat...\n",
              "4  d380meD0W0M  ...  I know it's been a while since we did this sho...\n",
              "\n",
              "[5 rows x 17 columns]"
            ]
          },
          "metadata": {
            "tags": []
          },
          "execution_count": 29
        }
      ]
    },
    {
      "cell_type": "code",
      "metadata": {
        "id": "B5vVMfKawBOE",
        "colab_type": "code",
        "colab": {}
      },
      "source": [
        "train_dataset = videos.sample(frac=0.8,random_state=12345)\n",
        "test_dataset = videos.drop(train_dataset.index)\n",
        "\n",
        "train_dataset['title'] = train_dataset['title'].apply(str)\n",
        "test_dataset['title'] = test_dataset['title'].apply(str)\n",
        "\n",
        "train_dataset.drop_duplicates(subset=\"title\", keep=\"last\", inplace=True)\n",
        "test_dataset.drop_duplicates(subset=\"title\", keep=\"last\", inplace=True)\n",
        "\n",
        "train_dataset = train_dataset.dropna()\n",
        "test_dataset = test_dataset.dropna()\n",
        "\n",
        "# get labels\n",
        "train_labels = train_dataset.pop('category')\n",
        "test_labels = test_dataset.pop('category')\n",
        "\n",
        "# min_max_scaler = preprocessing.MinMaxScaler()\n",
        "\n",
        "# # normalize train\n",
        "# x = train_dataset.values\n",
        "# normed_train = min_max_scaler.fit_transform(x)\n",
        "# train_dataset = pd.DataFrame(normed_train)\n",
        "\n",
        "# # normalize test\n",
        "# x = test_dataset.values\n",
        "# normed_test = min_max_scaler.fit_transform(x)\n",
        "# test_dataset = pd.DataFrame(normed_test)"
      ],
      "execution_count": 0,
      "outputs": []
    },
    {
      "cell_type": "code",
      "metadata": {
        "id": "WpU7Xs_80vus",
        "colab_type": "code",
        "colab": {
          "base_uri": "https://localhost:8080/",
          "height": 538
        },
        "outputId": "724829e4-fd50-4f7a-86ec-ee89e5efe27c"
      },
      "source": [
        "train_dataset.head()"
      ],
      "execution_count": 31,
      "outputs": [
        {
          "output_type": "execute_result",
          "data": {
            "text/html": [
              "<div>\n",
              "<style scoped>\n",
              "    .dataframe tbody tr th:only-of-type {\n",
              "        vertical-align: middle;\n",
              "    }\n",
              "\n",
              "    .dataframe tbody tr th {\n",
              "        vertical-align: top;\n",
              "    }\n",
              "\n",
              "    .dataframe thead th {\n",
              "        text-align: right;\n",
              "    }\n",
              "</style>\n",
              "<table border=\"1\" class=\"dataframe\">\n",
              "  <thead>\n",
              "    <tr style=\"text-align: right;\">\n",
              "      <th></th>\n",
              "      <th>video_id</th>\n",
              "      <th>trending_date</th>\n",
              "      <th>title</th>\n",
              "      <th>channel_title</th>\n",
              "      <th>category_id</th>\n",
              "      <th>publish_time</th>\n",
              "      <th>tags</th>\n",
              "      <th>views</th>\n",
              "      <th>likes</th>\n",
              "      <th>dislikes</th>\n",
              "      <th>comment_count</th>\n",
              "      <th>thumbnail_link</th>\n",
              "      <th>comments_disabled</th>\n",
              "      <th>ratings_disabled</th>\n",
              "      <th>video_error_or_removed</th>\n",
              "      <th>description</th>\n",
              "    </tr>\n",
              "  </thead>\n",
              "  <tbody>\n",
              "    <tr>\n",
              "      <th>17198</th>\n",
              "      <td>ETabBP9tUD4</td>\n",
              "      <td>18.10.02</td>\n",
              "      <td>Catchphrase with Andrew Garfield and Rachel Br...</td>\n",
              "      <td>The Tonight Show Starring Jimmy Fallon</td>\n",
              "      <td>23</td>\n",
              "      <td>2018-02-09T12:00:01.000Z</td>\n",
              "      <td>The Tonight Show|\"Jimmy Fallon\"|\"Catchphrase\"|...</td>\n",
              "      <td>114967</td>\n",
              "      <td>2783</td>\n",
              "      <td>54</td>\n",
              "      <td>201</td>\n",
              "      <td>https://i.ytimg.com/vi/ETabBP9tUD4/default.jpg</td>\n",
              "      <td>False</td>\n",
              "      <td>False</td>\n",
              "      <td>False</td>\n",
              "      <td>Jimmy teams up with Rachel Brosnahan against A...</td>\n",
              "    </tr>\n",
              "    <tr>\n",
              "      <th>6001</th>\n",
              "      <td>pA5NbgdpRpk</td>\n",
              "      <td>17.14.12</td>\n",
              "      <td>Lavar Ball &amp; Sons On Family Business, Discipli...</td>\n",
              "      <td>Breakfast Club Power 105.1 FM</td>\n",
              "      <td>24</td>\n",
              "      <td>2017-12-13T12:59:47.000Z</td>\n",
              "      <td>the breakfast club|\"power1051\"|\"celebrity news...</td>\n",
              "      <td>764775</td>\n",
              "      <td>20132</td>\n",
              "      <td>1600</td>\n",
              "      <td>7991</td>\n",
              "      <td>https://i.ytimg.com/vi/pA5NbgdpRpk/default.jpg</td>\n",
              "      <td>False</td>\n",
              "      <td>False</td>\n",
              "      <td>False</td>\n",
              "      <td>► Listen LIVE: http://power1051fm.com/\\n► Face...</td>\n",
              "    </tr>\n",
              "    <tr>\n",
              "      <th>4958</th>\n",
              "      <td>Yxv5EY-JwmU</td>\n",
              "      <td>17.08.12</td>\n",
              "      <td>At Home with Amy Sedaris - Astronaut Relations...</td>\n",
              "      <td>truTV</td>\n",
              "      <td>24</td>\n",
              "      <td>2017-12-04T19:22:14.000Z</td>\n",
              "      <td>truTV|\"tru\"|\"funny because its tru\"|\"truTV tru...</td>\n",
              "      <td>4232</td>\n",
              "      <td>49</td>\n",
              "      <td>4</td>\n",
              "      <td>4</td>\n",
              "      <td>https://i.ytimg.com/vi/Yxv5EY-JwmU/default.jpg</td>\n",
              "      <td>False</td>\n",
              "      <td>False</td>\n",
              "      <td>False</td>\n",
              "      <td>Why did the astronaut leave his wife? One sexu...</td>\n",
              "    </tr>\n",
              "    <tr>\n",
              "      <th>14148</th>\n",
              "      <td>trW9rxpSBxA</td>\n",
              "      <td>18.25.01</td>\n",
              "      <td>Worlds Record Basketball Shot 200m (660 feet) ...</td>\n",
              "      <td>How Ridiculous</td>\n",
              "      <td>17</td>\n",
              "      <td>2018-01-19T22:00:05.000Z</td>\n",
              "      <td>how ridiculous|\"world record\"|\"guinness world ...</td>\n",
              "      <td>359057</td>\n",
              "      <td>7478</td>\n",
              "      <td>103</td>\n",
              "      <td>732</td>\n",
              "      <td>https://i.ytimg.com/vi/trW9rxpSBxA/default.jpg</td>\n",
              "      <td>False</td>\n",
              "      <td>False</td>\n",
              "      <td>False</td>\n",
              "      <td>World Record Highest Basketball Shot (201.422m...</td>\n",
              "    </tr>\n",
              "    <tr>\n",
              "      <th>5540</th>\n",
              "      <td>tvs3yvEcARA</td>\n",
              "      <td>17.11.12</td>\n",
              "      <td>3D Printed Monster Spitfire | FLITE TEST</td>\n",
              "      <td>FliteTest</td>\n",
              "      <td>24</td>\n",
              "      <td>2017-12-06T20:30:00.000Z</td>\n",
              "      <td>Flite Test|\"remote controlled\"|\"unmanned\"|\"dro...</td>\n",
              "      <td>90458</td>\n",
              "      <td>3135</td>\n",
              "      <td>27</td>\n",
              "      <td>379</td>\n",
              "      <td>https://i.ytimg.com/vi/tvs3yvEcARA/default.jpg</td>\n",
              "      <td>False</td>\n",
              "      <td>False</td>\n",
              "      <td>False</td>\n",
              "      <td>MORE INFO: https://www.flitetest.com/articles/...</td>\n",
              "    </tr>\n",
              "  </tbody>\n",
              "</table>\n",
              "</div>"
            ],
            "text/plain": [
              "          video_id  ...                                        description\n",
              "17198  ETabBP9tUD4  ...  Jimmy teams up with Rachel Brosnahan against A...\n",
              "6001   pA5NbgdpRpk  ...  ► Listen LIVE: http://power1051fm.com/\\n► Face...\n",
              "4958   Yxv5EY-JwmU  ...  Why did the astronaut leave his wife? One sexu...\n",
              "14148  trW9rxpSBxA  ...  World Record Highest Basketball Shot (201.422m...\n",
              "5540   tvs3yvEcARA  ...  MORE INFO: https://www.flitetest.com/articles/...\n",
              "\n",
              "[5 rows x 16 columns]"
            ]
          },
          "metadata": {
            "tags": []
          },
          "execution_count": 31
        }
      ]
    },
    {
      "cell_type": "markdown",
      "metadata": {
        "id": "1XkwgIKv8ipy",
        "colab_type": "text"
      },
      "source": [
        "**Testing and Metrics Function**"
      ]
    },
    {
      "cell_type": "code",
      "metadata": {
        "id": "hwoYkd8e1zd0",
        "colab_type": "code",
        "colab": {}
      },
      "source": [
        "\"\"\"\n",
        "function: test_model\n",
        "params: clf, a function\n",
        "returns: nothing\n",
        "does: prints out confusion matrix, precision, recall, f-score, and ROC AUC\n",
        "\"\"\"\n",
        "def test_model(clf): # add in y_pred, y_labels\n",
        "  y_pred = clf.predict(test_dataset['title'])\n",
        "  metrics = precision_recall_fscore_support(y_true=test_labels, y_pred=y_pred, average='weighted')\n",
        "  accuracy = accuracy_score(test_labels, y_pred, normalize=True)\n",
        "  print('Test Precision: %.5f' %metrics[0])\n",
        "  print('Test Recall: %.5f' %metrics[1])\n",
        "  print('Test F-Score: : %.5f' %metrics[2])\n",
        "  print('Test Accuracy: : %.5f' %accuracy)\n",
        "\n",
        "  # auc = roc_auc_score(test_labels, clf.predict_proba(test_dataset['title'])[:,1])\n",
        "  # print('Test ROC AUC: %.5f' %auc)"
      ],
      "execution_count": 0,
      "outputs": []
    },
    {
      "cell_type": "markdown",
      "metadata": {
        "id": "OjWD8zap8o8p",
        "colab_type": "text"
      },
      "source": [
        "**Model Creation and Testing**"
      ]
    },
    {
      "cell_type": "markdown",
      "metadata": {
        "id": "Z_3HgCE48EQE",
        "colab_type": "text"
      },
      "source": [
        "`FeatureUnion` combines two `TfidfVectorizers` to clean text for our model"
      ]
    },
    {
      "cell_type": "code",
      "metadata": {
        "id": "WZonmlwAvIIx",
        "colab_type": "code",
        "colab": {}
      },
      "source": [
        "vectorizerW = TfidfVectorizer(lowercase=True, analyzer='word', stop_words=None, ngram_range = (1,1), max_df=1.0, min_df=1, max_features=None, norm = 'l2')\n",
        "vectorizerC = TfidfVectorizer(lowercase=True, analyzer='char', stop_words=None, ngram_range = (1,1), max_df=1.0, min_df=1, max_features=None, norm = 'l2')\n",
        "combined_features = FeatureUnion([('word', vectorizerW), ('char', vectorizerC)])"
      ],
      "execution_count": 0,
      "outputs": []
    },
    {
      "cell_type": "markdown",
      "metadata": {
        "id": "m6AHXLj08PMJ",
        "colab_type": "text"
      },
      "source": [
        "Next, we test a model. We chose `LogisticRegressionCV` as an initial model"
      ]
    },
    {
      "cell_type": "code",
      "metadata": {
        "id": "RSwMrkwzvJ4S",
        "colab_type": "code",
        "colab": {
          "base_uri": "https://localhost:8080/",
          "height": 88
        },
        "outputId": "8dd9d88a-8108-4fb5-a129-55bb15e1d46b"
      },
      "source": [
        "clf = Pipeline([\n",
        "    ('features', combined_features),\n",
        "    ('clf', LogisticRegressionCV(cv=3, solver='newton-cg', n_jobs=-1, multi_class='multinomial')),\n",
        "])\n",
        "\n",
        "clf = clf.fit(train_dataset['title'], train_labels)\n",
        "test_model(clf)"
      ],
      "execution_count": 45,
      "outputs": [
        {
          "output_type": "stream",
          "text": [
            "Test Precision: 0.98388\n",
            "Test Recall: 0.98385\n",
            "Test F-Score: : 0.98383\n",
            "Test Accuracy: : 0.98385\n"
          ],
          "name": "stdout"
        }
      ]
    },
    {
      "cell_type": "markdown",
      "metadata": {
        "id": "-JzXmhpi8ZEz",
        "colab_type": "text"
      },
      "source": [
        "It generated a pretty good score, so there isn't much improvement to make"
      ]
    }
  ]
}